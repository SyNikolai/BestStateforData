{
 "cells": [
  {
   "cell_type": "markdown",
   "id": "f8150750",
   "metadata": {},
   "source": [
    "# Finding the ideal U.S. state for Data related I.T. positions."
   ]
  },
  {
   "cell_type": "markdown",
   "id": "5fe583a0",
   "metadata": {},
   "source": [
    "The purpose of this notebook is to perform EDA on data derived from various online sources in order to determine \n",
    "the ideal U.S. state for an aspiring European citizen interested in entering the Data industry at a junior level."
   ]
  },
  {
   "cell_type": "markdown",
   "id": "52fcde86",
   "metadata": {},
   "source": [
    "The fist of the datasets that will be considered during the following analysis, contains valuable insights in terms of job listings in online job markets, such as Glassdoor during 2020."
   ]
  },
  {
   "cell_type": "markdown",
   "id": "295d1a05",
   "metadata": {},
   "source": [
    "The second dataset, is a collection of various indices (timeframe 2022) that will help in determing the overall cost of living per U.S. state."
   ]
  },
  {
   "cell_type": "markdown",
   "id": "8797251e",
   "metadata": {},
   "source": [
    "Finally, a table containing the current (2022) effective tax rate on income per U.S. state is taken into account."
   ]
  },
  {
   "cell_type": "markdown",
   "id": "883abdde",
   "metadata": {},
   "source": [
    "# Importing neccessary packages"
   ]
  },
  {
   "cell_type": "code",
   "execution_count": 1,
   "id": "d1a40d7c",
   "metadata": {},
   "outputs": [],
   "source": [
    "# Dependencies\n",
    "import pandas as pd\n",
    "import numpy as np\n",
    "import matplotlib.pyplot as plt\n",
    "import seaborn as sns\n",
    "import warnings\n",
    "\n",
    "warnings.filterwarnings(\"ignore\")\n",
    "pd.set_option(\"display.max_columns\", None)"
   ]
  },
  {
   "cell_type": "markdown",
   "id": "358b0653",
   "metadata": {},
   "source": [
    "Local data paths for each dataset file."
   ]
  },
  {
   "cell_type": "code",
   "execution_count": 44,
   "id": "66ba8178",
   "metadata": {},
   "outputs": [],
   "source": [
    "# Data paths\n",
    "SALARY_DATA = \"/Users/synikola/Desktop/Github/EDAChallenge2022/DATA/DataScientist.csv\"\n",
    "COST_OF_LIVING = \"/Users/synikola/Desktop/Github/EDAChallenge2022/DATA/costofliving.csv\"\n",
    "TAXES = \"/Users/synikola/Desktop/Github/EDAChallenge2022/DATA/TAXES.xlsx\""
   ]
  },
  {
   "cell_type": "code",
   "execution_count": 46,
   "id": "12838272",
   "metadata": {
    "scrolled": true
   },
   "outputs": [],
   "source": [
    "# Reading data into pandas dataframes\n",
    "salary = pd.read_csv(SALARY_DATA)\n",
    "cost = pd.read_csv(COST_OF_LIVING)\n",
    "taxes = pd.read_excel(TAXES)"
   ]
  },
  {
   "cell_type": "markdown",
   "id": "e070b4db",
   "metadata": {},
   "source": [
    "# Part A) Data cleaning"
   ]
  },
  {
   "cell_type": "markdown",
   "id": "52dfaf84",
   "metadata": {},
   "source": [
    "# A.1) Cleaning the salary related dataset"
   ]
  },
  {
   "cell_type": "code",
   "execution_count": 47,
   "id": "b2ceea51",
   "metadata": {
    "scrolled": true
   },
   "outputs": [
    {
     "data": {
      "text/html": [
       "<div>\n",
       "<style scoped>\n",
       "    .dataframe tbody tr th:only-of-type {\n",
       "        vertical-align: middle;\n",
       "    }\n",
       "\n",
       "    .dataframe tbody tr th {\n",
       "        vertical-align: top;\n",
       "    }\n",
       "\n",
       "    .dataframe thead th {\n",
       "        text-align: right;\n",
       "    }\n",
       "</style>\n",
       "<table border=\"1\" class=\"dataframe\">\n",
       "  <thead>\n",
       "    <tr style=\"text-align: right;\">\n",
       "      <th></th>\n",
       "      <th>Unnamed: 0</th>\n",
       "      <th>index</th>\n",
       "      <th>Job Title</th>\n",
       "      <th>Salary Estimate</th>\n",
       "      <th>Job Description</th>\n",
       "      <th>Rating</th>\n",
       "      <th>Company Name</th>\n",
       "      <th>Location</th>\n",
       "      <th>Headquarters</th>\n",
       "      <th>Size</th>\n",
       "      <th>Founded</th>\n",
       "      <th>Type of ownership</th>\n",
       "      <th>Industry</th>\n",
       "      <th>Sector</th>\n",
       "      <th>Revenue</th>\n",
       "      <th>Competitors</th>\n",
       "      <th>Easy Apply</th>\n",
       "    </tr>\n",
       "  </thead>\n",
       "  <tbody>\n",
       "    <tr>\n",
       "      <th>0</th>\n",
       "      <td>0</td>\n",
       "      <td>0</td>\n",
       "      <td>Senior Data Scientist</td>\n",
       "      <td>$111K-$181K (Glassdoor est.)</td>\n",
       "      <td>ABOUT HOPPER\\n\\nAt Hopper, we’re on a mission ...</td>\n",
       "      <td>3.5</td>\n",
       "      <td>Hopper\\n3.5</td>\n",
       "      <td>New York, NY</td>\n",
       "      <td>Montreal, Canada</td>\n",
       "      <td>501 to 1000 employees</td>\n",
       "      <td>2007</td>\n",
       "      <td>Company - Private</td>\n",
       "      <td>Travel Agencies</td>\n",
       "      <td>Travel &amp; Tourism</td>\n",
       "      <td>Unknown / Non-Applicable</td>\n",
       "      <td>-1</td>\n",
       "      <td>-1</td>\n",
       "    </tr>\n",
       "    <tr>\n",
       "      <th>1</th>\n",
       "      <td>1</td>\n",
       "      <td>1</td>\n",
       "      <td>Data Scientist, Product Analytics</td>\n",
       "      <td>$111K-$181K (Glassdoor est.)</td>\n",
       "      <td>At Noom, we use scientifically proven methods ...</td>\n",
       "      <td>4.5</td>\n",
       "      <td>Noom US\\n4.5</td>\n",
       "      <td>New York, NY</td>\n",
       "      <td>New York, NY</td>\n",
       "      <td>1001 to 5000 employees</td>\n",
       "      <td>2008</td>\n",
       "      <td>Company - Private</td>\n",
       "      <td>Health, Beauty, &amp; Fitness</td>\n",
       "      <td>Consumer Services</td>\n",
       "      <td>Unknown / Non-Applicable</td>\n",
       "      <td>-1</td>\n",
       "      <td>-1</td>\n",
       "    </tr>\n",
       "    <tr>\n",
       "      <th>2</th>\n",
       "      <td>2</td>\n",
       "      <td>2</td>\n",
       "      <td>Data Science Manager</td>\n",
       "      <td>$111K-$181K (Glassdoor est.)</td>\n",
       "      <td>Decode_M\\n\\nhttps://www.decode-m.com/\\n\\nData ...</td>\n",
       "      <td>-1.0</td>\n",
       "      <td>Decode_M</td>\n",
       "      <td>New York, NY</td>\n",
       "      <td>New York, NY</td>\n",
       "      <td>1 to 50 employees</td>\n",
       "      <td>-1</td>\n",
       "      <td>Unknown</td>\n",
       "      <td>-1</td>\n",
       "      <td>-1</td>\n",
       "      <td>Unknown / Non-Applicable</td>\n",
       "      <td>-1</td>\n",
       "      <td>True</td>\n",
       "    </tr>\n",
       "  </tbody>\n",
       "</table>\n",
       "</div>"
      ],
      "text/plain": [
       "   Unnamed: 0  index                          Job Title  \\\n",
       "0           0      0              Senior Data Scientist   \n",
       "1           1      1  Data Scientist, Product Analytics   \n",
       "2           2      2               Data Science Manager   \n",
       "\n",
       "                Salary Estimate  \\\n",
       "0  $111K-$181K (Glassdoor est.)   \n",
       "1  $111K-$181K (Glassdoor est.)   \n",
       "2  $111K-$181K (Glassdoor est.)   \n",
       "\n",
       "                                     Job Description  Rating  Company Name  \\\n",
       "0  ABOUT HOPPER\\n\\nAt Hopper, we’re on a mission ...     3.5   Hopper\\n3.5   \n",
       "1  At Noom, we use scientifically proven methods ...     4.5  Noom US\\n4.5   \n",
       "2  Decode_M\\n\\nhttps://www.decode-m.com/\\n\\nData ...    -1.0      Decode_M   \n",
       "\n",
       "       Location      Headquarters                    Size  Founded  \\\n",
       "0  New York, NY  Montreal, Canada   501 to 1000 employees     2007   \n",
       "1  New York, NY      New York, NY  1001 to 5000 employees     2008   \n",
       "2  New York, NY      New York, NY       1 to 50 employees       -1   \n",
       "\n",
       "   Type of ownership                   Industry             Sector  \\\n",
       "0  Company - Private            Travel Agencies   Travel & Tourism   \n",
       "1  Company - Private  Health, Beauty, & Fitness  Consumer Services   \n",
       "2            Unknown                         -1                 -1   \n",
       "\n",
       "                    Revenue Competitors Easy Apply  \n",
       "0  Unknown / Non-Applicable          -1         -1  \n",
       "1  Unknown / Non-Applicable          -1         -1  \n",
       "2  Unknown / Non-Applicable          -1       True  "
      ]
     },
     "execution_count": 47,
     "metadata": {},
     "output_type": "execute_result"
    }
   ],
   "source": [
    "# View the table structure\n",
    "salary.head(3)"
   ]
  },
  {
   "cell_type": "code",
   "execution_count": 48,
   "id": "529a223a",
   "metadata": {},
   "outputs": [
    {
     "data": {
      "text/html": [
       "<div>\n",
       "<style scoped>\n",
       "    .dataframe tbody tr th:only-of-type {\n",
       "        vertical-align: middle;\n",
       "    }\n",
       "\n",
       "    .dataframe tbody tr th {\n",
       "        vertical-align: top;\n",
       "    }\n",
       "\n",
       "    .dataframe thead th {\n",
       "        text-align: right;\n",
       "    }\n",
       "</style>\n",
       "<table border=\"1\" class=\"dataframe\">\n",
       "  <thead>\n",
       "    <tr style=\"text-align: right;\">\n",
       "      <th></th>\n",
       "      <th>Unnamed: 0</th>\n",
       "      <th>index</th>\n",
       "      <th>Rating</th>\n",
       "      <th>Founded</th>\n",
       "    </tr>\n",
       "  </thead>\n",
       "  <tbody>\n",
       "    <tr>\n",
       "      <th>count</th>\n",
       "      <td>3909.000000</td>\n",
       "      <td>3909.000000</td>\n",
       "      <td>3909.000000</td>\n",
       "      <td>3909.000000</td>\n",
       "    </tr>\n",
       "    <tr>\n",
       "      <th>mean</th>\n",
       "      <td>1954.000000</td>\n",
       "      <td>2167.446662</td>\n",
       "      <td>3.283576</td>\n",
       "      <td>1479.154771</td>\n",
       "    </tr>\n",
       "    <tr>\n",
       "      <th>std</th>\n",
       "      <td>1128.575429</td>\n",
       "      <td>1247.657849</td>\n",
       "      <td>1.575749</td>\n",
       "      <td>855.750138</td>\n",
       "    </tr>\n",
       "    <tr>\n",
       "      <th>min</th>\n",
       "      <td>0.000000</td>\n",
       "      <td>0.000000</td>\n",
       "      <td>-1.000000</td>\n",
       "      <td>-1.000000</td>\n",
       "    </tr>\n",
       "    <tr>\n",
       "      <th>25%</th>\n",
       "      <td>977.000000</td>\n",
       "      <td>1121.000000</td>\n",
       "      <td>3.200000</td>\n",
       "      <td>1625.000000</td>\n",
       "    </tr>\n",
       "    <tr>\n",
       "      <th>50%</th>\n",
       "      <td>1954.000000</td>\n",
       "      <td>2161.000000</td>\n",
       "      <td>3.700000</td>\n",
       "      <td>1976.000000</td>\n",
       "    </tr>\n",
       "    <tr>\n",
       "      <th>75%</th>\n",
       "      <td>2931.000000</td>\n",
       "      <td>3249.000000</td>\n",
       "      <td>4.100000</td>\n",
       "      <td>2002.000000</td>\n",
       "    </tr>\n",
       "    <tr>\n",
       "      <th>max</th>\n",
       "      <td>3908.000000</td>\n",
       "      <td>4379.000000</td>\n",
       "      <td>5.000000</td>\n",
       "      <td>2020.000000</td>\n",
       "    </tr>\n",
       "  </tbody>\n",
       "</table>\n",
       "</div>"
      ],
      "text/plain": [
       "        Unnamed: 0        index       Rating      Founded\n",
       "count  3909.000000  3909.000000  3909.000000  3909.000000\n",
       "mean   1954.000000  2167.446662     3.283576  1479.154771\n",
       "std    1128.575429  1247.657849     1.575749   855.750138\n",
       "min       0.000000     0.000000    -1.000000    -1.000000\n",
       "25%     977.000000  1121.000000     3.200000  1625.000000\n",
       "50%    1954.000000  2161.000000     3.700000  1976.000000\n",
       "75%    2931.000000  3249.000000     4.100000  2002.000000\n",
       "max    3908.000000  4379.000000     5.000000  2020.000000"
      ]
     },
     "execution_count": 48,
     "metadata": {},
     "output_type": "execute_result"
    }
   ],
   "source": [
    "salary.describe()"
   ]
  },
  {
   "cell_type": "code",
   "execution_count": 49,
   "id": "800ed7da",
   "metadata": {},
   "outputs": [
    {
     "name": "stdout",
     "output_type": "stream",
     "text": [
      "<class 'pandas.core.frame.DataFrame'>\n",
      "RangeIndex: 3909 entries, 0 to 3908\n",
      "Data columns (total 17 columns):\n",
      " #   Column             Non-Null Count  Dtype  \n",
      "---  ------             --------------  -----  \n",
      " 0   Unnamed: 0         3909 non-null   int64  \n",
      " 1   index              3909 non-null   int64  \n",
      " 2   Job Title          3909 non-null   object \n",
      " 3   Salary Estimate    3909 non-null   object \n",
      " 4   Job Description    3909 non-null   object \n",
      " 5   Rating             3909 non-null   float64\n",
      " 6   Company Name       3909 non-null   object \n",
      " 7   Location           3909 non-null   object \n",
      " 8   Headquarters       3909 non-null   object \n",
      " 9   Size               3909 non-null   object \n",
      " 10  Founded            3909 non-null   int64  \n",
      " 11  Type of ownership  3909 non-null   object \n",
      " 12  Industry           3909 non-null   object \n",
      " 13  Sector             3909 non-null   object \n",
      " 14  Revenue            3909 non-null   object \n",
      " 15  Competitors        3909 non-null   object \n",
      " 16  Easy Apply         3909 non-null   object \n",
      "dtypes: float64(1), int64(3), object(13)\n",
      "memory usage: 519.3+ KB\n"
     ]
    }
   ],
   "source": [
    "# View the data type of each column and make any changes for the following analysis\n",
    "salary.info()"
   ]
  },
  {
   "cell_type": "markdown",
   "id": "cc8b76c9",
   "metadata": {},
   "source": [
    "Columns relevant to the following analysis are: Job title, Salary Estimate, Location"
   ]
  },
  {
   "cell_type": "code",
   "execution_count": 50,
   "id": "1098f39a",
   "metadata": {},
   "outputs": [],
   "source": [
    "# Keeping only relevant columns\n",
    "salary = salary[[\"Job Title\", \"Salary Estimate\", \"Location\"]]"
   ]
  },
  {
   "cell_type": "code",
   "execution_count": 51,
   "id": "330a742f",
   "metadata": {
    "scrolled": false
   },
   "outputs": [],
   "source": [
    "# Finding per hour entries in salary estimates and turning their values into na\n",
    "# (those entries will not be used for the following analysis)\n",
    "salary.loc[salary[\"Salary Estimate\"].str.contains(\"Per Hour\"), \"Salary Estimate\"] = None"
   ]
  },
  {
   "cell_type": "code",
   "execution_count": 52,
   "id": "d1037d84",
   "metadata": {},
   "outputs": [],
   "source": [
    "# Dropping na values in the dataset\n",
    "salary.dropna(inplace = True)"
   ]
  },
  {
   "cell_type": "code",
   "execution_count": 53,
   "id": "c3afcf78",
   "metadata": {},
   "outputs": [
    {
     "name": "stdout",
     "output_type": "stream",
     "text": [
      "<class 'pandas.core.frame.DataFrame'>\n",
      "Int64Index: 3888 entries, 0 to 3908\n",
      "Data columns (total 3 columns):\n",
      " #   Column           Non-Null Count  Dtype \n",
      "---  ------           --------------  ----- \n",
      " 0   Job Title        3888 non-null   object\n",
      " 1   Salary Estimate  3888 non-null   object\n",
      " 2   Location         3888 non-null   object\n",
      "dtypes: object(3)\n",
      "memory usage: 121.5+ KB\n"
     ]
    }
   ],
   "source": [
    "# Checking the resulting dataframe\n",
    "salary.info()"
   ]
  },
  {
   "cell_type": "markdown",
   "id": "b5c1d757",
   "metadata": {},
   "source": [
    "Keeping only the starting salary from the salary estimate column."
   ]
  },
  {
   "cell_type": "code",
   "execution_count": 54,
   "id": "8367a53e",
   "metadata": {},
   "outputs": [],
   "source": [
    "# Using regex we replace the irrelevant characters from the string values in the \"Salary Estimate\" column.\n",
    "salary[\"Minimum Salary\"] =  salary['Salary Estimate'].replace('[Glassdoor est.K\\)\\(]', '' , regex = True)"
   ]
  },
  {
   "cell_type": "code",
   "execution_count": 55,
   "id": "06e8f5f4",
   "metadata": {},
   "outputs": [],
   "source": [
    "# Keep only the minimum starting salary value in the range (minimum starting salary - maximum starting salary).\n",
    "salary[\"Minimum Salary\"] =  salary[\"Minimum Salary\"].str.split('-').str[0]"
   ]
  },
  {
   "cell_type": "code",
   "execution_count": 56,
   "id": "c55ee7bc",
   "metadata": {},
   "outputs": [],
   "source": [
    "# Remove the dollar sign.\n",
    "salary[\"Minimum Salary\"] = salary[\"Minimum Salary\"].replace('\\W', ' ', regex = True)"
   ]
  },
  {
   "cell_type": "code",
   "execution_count": 57,
   "id": "03c61fed",
   "metadata": {},
   "outputs": [],
   "source": [
    "# Rename column to include the units of the salary\n",
    "salary.rename(columns = {\"Minimum Salary\":\"Minimum Salary (K $)\"}, inplace = True)"
   ]
  },
  {
   "cell_type": "code",
   "execution_count": 58,
   "id": "cc2273a2",
   "metadata": {},
   "outputs": [],
   "source": [
    "# Change the values of the column into numerics\n",
    "salary[\"Minimum Salary (K $)\"] = pd.to_numeric(salary[\"Minimum Salary (K $)\"])"
   ]
  },
  {
   "cell_type": "markdown",
   "id": "9fd6baa5",
   "metadata": {},
   "source": [
    "We will filter our dataset for Job Titles that do not contain the word Data, assuming only those that do are\n",
    "of interest for our analysis."
   ]
  },
  {
   "cell_type": "code",
   "execution_count": 59,
   "id": "7cd7996e",
   "metadata": {},
   "outputs": [],
   "source": [
    "# Finding all none data related jobs (do not contain DATA in the job title) and assigning na values to them\n",
    "salary.loc[~salary[\"Job Title\"].str.contains(r\"Data\",regex = True), \"Job Title\"] = None"
   ]
  },
  {
   "cell_type": "code",
   "execution_count": 60,
   "id": "d471acad",
   "metadata": {},
   "outputs": [],
   "source": [
    "# Dropping the resulting na job titles\n",
    "salary.dropna(inplace = True)"
   ]
  },
  {
   "cell_type": "markdown",
   "id": "e6be0c08",
   "metadata": {},
   "source": [
    "We will group into 3 categories Job Titles that fall into 3 generall categories in order to simplify our analysis."
   ]
  },
  {
   "cell_type": "code",
   "execution_count": 61,
   "id": "3a168f20",
   "metadata": {},
   "outputs": [],
   "source": [
    "# Finding all data scientists and assigning the title of Data Scientist to them.\n",
    "salary.loc[salary[\"Job Title\"].str.contains(r\"(Data Scientist)|(Data Science)\", regex = True), \"Job Title\"] = \"Data Scientist\""
   ]
  },
  {
   "cell_type": "code",
   "execution_count": 62,
   "id": "2b3c094c",
   "metadata": {},
   "outputs": [],
   "source": [
    "# Finding all data analytics related jobs and assigning the title of Data Analyst to them.\n",
    "salary.loc[salary[\"Job Title\"].str.contains(r\"(Data Analyst)|(Data Analytics)\", regex = True), \"Job Title\"] = \"Data Analyst\""
   ]
  },
  {
   "cell_type": "code",
   "execution_count": 63,
   "id": "2a3d055f",
   "metadata": {},
   "outputs": [],
   "source": [
    "# Finding all data engineering related jobs and assigning the title of Data Engineer to them.\n",
    "salary.loc[salary[\"Job Title\"].str.contains(r\"(Data Engineer)|(Data Engineering)\", regex = True), \"Job Title\"] = \"Data Engineer\""
   ]
  },
  {
   "cell_type": "code",
   "execution_count": 64,
   "id": "cd8a71b4",
   "metadata": {},
   "outputs": [
    {
     "data": {
      "text/html": [
       "<div>\n",
       "<style scoped>\n",
       "    .dataframe tbody tr th:only-of-type {\n",
       "        vertical-align: middle;\n",
       "    }\n",
       "\n",
       "    .dataframe tbody tr th {\n",
       "        vertical-align: top;\n",
       "    }\n",
       "\n",
       "    .dataframe thead th {\n",
       "        text-align: right;\n",
       "    }\n",
       "</style>\n",
       "<table border=\"1\" class=\"dataframe\">\n",
       "  <thead>\n",
       "    <tr style=\"text-align: right;\">\n",
       "      <th></th>\n",
       "      <th>Job Title</th>\n",
       "      <th>Salary Estimate</th>\n",
       "      <th>Location</th>\n",
       "      <th>Minimum Salary (K $)</th>\n",
       "    </tr>\n",
       "  </thead>\n",
       "  <tbody>\n",
       "    <tr>\n",
       "      <th>0</th>\n",
       "      <td>Data Scientist</td>\n",
       "      <td>$111K-$181K (Glassdoor est.)</td>\n",
       "      <td>New York, NY</td>\n",
       "      <td>111</td>\n",
       "    </tr>\n",
       "    <tr>\n",
       "      <th>1</th>\n",
       "      <td>Data Scientist</td>\n",
       "      <td>$111K-$181K (Glassdoor est.)</td>\n",
       "      <td>New York, NY</td>\n",
       "      <td>111</td>\n",
       "    </tr>\n",
       "    <tr>\n",
       "      <th>2</th>\n",
       "      <td>Data Scientist</td>\n",
       "      <td>$111K-$181K (Glassdoor est.)</td>\n",
       "      <td>New York, NY</td>\n",
       "      <td>111</td>\n",
       "    </tr>\n",
       "    <tr>\n",
       "      <th>3</th>\n",
       "      <td>Data Analyst</td>\n",
       "      <td>$111K-$181K (Glassdoor est.)</td>\n",
       "      <td>Lyndhurst, NJ</td>\n",
       "      <td>111</td>\n",
       "    </tr>\n",
       "    <tr>\n",
       "      <th>4</th>\n",
       "      <td>Data Scientist</td>\n",
       "      <td>$111K-$181K (Glassdoor est.)</td>\n",
       "      <td>New York, NY</td>\n",
       "      <td>111</td>\n",
       "    </tr>\n",
       "  </tbody>\n",
       "</table>\n",
       "</div>"
      ],
      "text/plain": [
       "        Job Title               Salary Estimate       Location  \\\n",
       "0  Data Scientist  $111K-$181K (Glassdoor est.)   New York, NY   \n",
       "1  Data Scientist  $111K-$181K (Glassdoor est.)   New York, NY   \n",
       "2  Data Scientist  $111K-$181K (Glassdoor est.)   New York, NY   \n",
       "3    Data Analyst  $111K-$181K (Glassdoor est.)  Lyndhurst, NJ   \n",
       "4  Data Scientist  $111K-$181K (Glassdoor est.)   New York, NY   \n",
       "\n",
       "   Minimum Salary (K $)  \n",
       "0                   111  \n",
       "1                   111  \n",
       "2                   111  \n",
       "3                   111  \n",
       "4                   111  "
      ]
     },
     "execution_count": 64,
     "metadata": {},
     "output_type": "execute_result"
    }
   ],
   "source": [
    "# View cleaned dataframe\n",
    "salary.head()"
   ]
  },
  {
   "cell_type": "markdown",
   "id": "087ea8d9",
   "metadata": {},
   "source": [
    "# A.2) Cleaning the cost of living dataset."
   ]
  },
  {
   "cell_type": "code",
   "execution_count": 65,
   "id": "5f87e4aa",
   "metadata": {},
   "outputs": [],
   "source": [
    "# Filtering the cost dataframe to contain only U.S. states locations.\n",
    "cost = cost[cost[\"City\"].str.contains(\"United States\", regex= True)]"
   ]
  },
  {
   "cell_type": "code",
   "execution_count": 66,
   "id": "3a6cc232",
   "metadata": {},
   "outputs": [
    {
     "data": {
      "text/html": [
       "<div>\n",
       "<style scoped>\n",
       "    .dataframe tbody tr th:only-of-type {\n",
       "        vertical-align: middle;\n",
       "    }\n",
       "\n",
       "    .dataframe tbody tr th {\n",
       "        vertical-align: top;\n",
       "    }\n",
       "\n",
       "    .dataframe thead th {\n",
       "        text-align: right;\n",
       "    }\n",
       "</style>\n",
       "<table border=\"1\" class=\"dataframe\">\n",
       "  <thead>\n",
       "    <tr style=\"text-align: right;\">\n",
       "      <th></th>\n",
       "      <th>Rank</th>\n",
       "      <th>City</th>\n",
       "      <th>Cost of Living Index</th>\n",
       "      <th>Rent Index</th>\n",
       "      <th>Cost of Living Plus Rent Index</th>\n",
       "      <th>Groceries Index</th>\n",
       "      <th>Restaurant Price Index</th>\n",
       "      <th>Local Purchasing Power Index</th>\n",
       "    </tr>\n",
       "  </thead>\n",
       "  <tbody>\n",
       "    <tr>\n",
       "      <th>10</th>\n",
       "      <td>NaN</td>\n",
       "      <td>Honolulu, HI, United States</td>\n",
       "      <td>103.65</td>\n",
       "      <td>65.07</td>\n",
       "      <td>85.56</td>\n",
       "      <td>114.92</td>\n",
       "      <td>94.28</td>\n",
       "      <td>89.24</td>\n",
       "    </tr>\n",
       "    <tr>\n",
       "      <th>13</th>\n",
       "      <td>NaN</td>\n",
       "      <td>New York, NY, United States</td>\n",
       "      <td>100.00</td>\n",
       "      <td>100.00</td>\n",
       "      <td>100.00</td>\n",
       "      <td>100.00</td>\n",
       "      <td>100.00</td>\n",
       "      <td>100.00</td>\n",
       "    </tr>\n",
       "    <tr>\n",
       "      <th>18</th>\n",
       "      <td>NaN</td>\n",
       "      <td>Santa Barbara, CA, United States</td>\n",
       "      <td>95.01</td>\n",
       "      <td>78.42</td>\n",
       "      <td>87.23</td>\n",
       "      <td>99.53</td>\n",
       "      <td>99.41</td>\n",
       "      <td>93.86</td>\n",
       "    </tr>\n",
       "    <tr>\n",
       "      <th>20</th>\n",
       "      <td>NaN</td>\n",
       "      <td>Berkeley, CA, United States</td>\n",
       "      <td>94.36</td>\n",
       "      <td>88.22</td>\n",
       "      <td>91.48</td>\n",
       "      <td>106.23</td>\n",
       "      <td>78.85</td>\n",
       "      <td>85.78</td>\n",
       "    </tr>\n",
       "    <tr>\n",
       "      <th>21</th>\n",
       "      <td>NaN</td>\n",
       "      <td>San Francisco, CA, United States</td>\n",
       "      <td>93.91</td>\n",
       "      <td>108.42</td>\n",
       "      <td>100.72</td>\n",
       "      <td>97.05</td>\n",
       "      <td>93.40</td>\n",
       "      <td>133.16</td>\n",
       "    </tr>\n",
       "  </tbody>\n",
       "</table>\n",
       "</div>"
      ],
      "text/plain": [
       "    Rank                              City  Cost of Living Index  Rent Index  \\\n",
       "10   NaN       Honolulu, HI, United States                103.65       65.07   \n",
       "13   NaN       New York, NY, United States                100.00      100.00   \n",
       "18   NaN  Santa Barbara, CA, United States                 95.01       78.42   \n",
       "20   NaN       Berkeley, CA, United States                 94.36       88.22   \n",
       "21   NaN  San Francisco, CA, United States                 93.91      108.42   \n",
       "\n",
       "    Cost of Living Plus Rent Index  Groceries Index  Restaurant Price Index  \\\n",
       "10                           85.56           114.92                   94.28   \n",
       "13                          100.00           100.00                  100.00   \n",
       "18                           87.23            99.53                   99.41   \n",
       "20                           91.48           106.23                   78.85   \n",
       "21                          100.72            97.05                   93.40   \n",
       "\n",
       "    Local Purchasing Power Index  \n",
       "10                         89.24  \n",
       "13                        100.00  \n",
       "18                         93.86  \n",
       "20                         85.78  \n",
       "21                        133.16  "
      ]
     },
     "execution_count": 66,
     "metadata": {},
     "output_type": "execute_result"
    }
   ],
   "source": [
    "# View the resulting dataframe.\n",
    "cost.head()"
   ]
  },
  {
   "cell_type": "code",
   "execution_count": 67,
   "id": "ce825e1f",
   "metadata": {},
   "outputs": [
    {
     "name": "stdout",
     "output_type": "stream",
     "text": [
      "<class 'pandas.core.frame.DataFrame'>\n",
      "Int64Index: 95 entries, 10 to 314\n",
      "Data columns (total 8 columns):\n",
      " #   Column                          Non-Null Count  Dtype  \n",
      "---  ------                          --------------  -----  \n",
      " 0   Rank                            0 non-null      float64\n",
      " 1   City                            95 non-null     object \n",
      " 2   Cost of Living Index            95 non-null     float64\n",
      " 3   Rent Index                      95 non-null     float64\n",
      " 4   Cost of Living Plus Rent Index  95 non-null     float64\n",
      " 5   Groceries Index                 95 non-null     float64\n",
      " 6   Restaurant Price Index          95 non-null     float64\n",
      " 7   Local Purchasing Power Index    95 non-null     float64\n",
      "dtypes: float64(7), object(1)\n",
      "memory usage: 6.7+ KB\n"
     ]
    }
   ],
   "source": [
    "# Get info about the column types.\n",
    "cost.info()"
   ]
  },
  {
   "cell_type": "code",
   "execution_count": 68,
   "id": "0befc866",
   "metadata": {
    "scrolled": false
   },
   "outputs": [],
   "source": [
    "# Remove irrelevant column.\n",
    "cost = cost.drop('Rank', axis = 1)"
   ]
  },
  {
   "cell_type": "code",
   "execution_count": 69,
   "id": "55776b2c",
   "metadata": {},
   "outputs": [],
   "source": [
    "# Reset the dataframe's index\n",
    "cost.reset_index(inplace = True, drop = True)"
   ]
  },
  {
   "cell_type": "code",
   "execution_count": 70,
   "id": "e6fbadd7",
   "metadata": {},
   "outputs": [],
   "source": [
    "# Create a new column out of the city column keeping only the CITY, STATE_ID information \n",
    "# similarly to the Location column of the salary dataframe \n",
    "cost[\"Location\"] = cost[\"City\"].replace(', United States', '', regex = True)"
   ]
  },
  {
   "cell_type": "code",
   "execution_count": 71,
   "id": "215e4fae",
   "metadata": {
    "scrolled": true
   },
   "outputs": [
    {
     "data": {
      "text/html": [
       "<div>\n",
       "<style scoped>\n",
       "    .dataframe tbody tr th:only-of-type {\n",
       "        vertical-align: middle;\n",
       "    }\n",
       "\n",
       "    .dataframe tbody tr th {\n",
       "        vertical-align: top;\n",
       "    }\n",
       "\n",
       "    .dataframe thead th {\n",
       "        text-align: right;\n",
       "    }\n",
       "</style>\n",
       "<table border=\"1\" class=\"dataframe\">\n",
       "  <thead>\n",
       "    <tr style=\"text-align: right;\">\n",
       "      <th></th>\n",
       "      <th>City</th>\n",
       "      <th>Cost of Living Index</th>\n",
       "      <th>Rent Index</th>\n",
       "      <th>Cost of Living Plus Rent Index</th>\n",
       "      <th>Groceries Index</th>\n",
       "      <th>Restaurant Price Index</th>\n",
       "      <th>Local Purchasing Power Index</th>\n",
       "      <th>Location</th>\n",
       "    </tr>\n",
       "  </thead>\n",
       "  <tbody>\n",
       "    <tr>\n",
       "      <th>0</th>\n",
       "      <td>Honolulu, HI, United States</td>\n",
       "      <td>103.65</td>\n",
       "      <td>65.07</td>\n",
       "      <td>85.56</td>\n",
       "      <td>114.92</td>\n",
       "      <td>94.28</td>\n",
       "      <td>89.24</td>\n",
       "      <td>Honolulu, HI</td>\n",
       "    </tr>\n",
       "    <tr>\n",
       "      <th>1</th>\n",
       "      <td>New York, NY, United States</td>\n",
       "      <td>100.00</td>\n",
       "      <td>100.00</td>\n",
       "      <td>100.00</td>\n",
       "      <td>100.00</td>\n",
       "      <td>100.00</td>\n",
       "      <td>100.00</td>\n",
       "      <td>New York, NY</td>\n",
       "    </tr>\n",
       "    <tr>\n",
       "      <th>2</th>\n",
       "      <td>Santa Barbara, CA, United States</td>\n",
       "      <td>95.01</td>\n",
       "      <td>78.42</td>\n",
       "      <td>87.23</td>\n",
       "      <td>99.53</td>\n",
       "      <td>99.41</td>\n",
       "      <td>93.86</td>\n",
       "      <td>Santa Barbara, CA</td>\n",
       "    </tr>\n",
       "    <tr>\n",
       "      <th>3</th>\n",
       "      <td>Berkeley, CA, United States</td>\n",
       "      <td>94.36</td>\n",
       "      <td>88.22</td>\n",
       "      <td>91.48</td>\n",
       "      <td>106.23</td>\n",
       "      <td>78.85</td>\n",
       "      <td>85.78</td>\n",
       "      <td>Berkeley, CA</td>\n",
       "    </tr>\n",
       "    <tr>\n",
       "      <th>4</th>\n",
       "      <td>San Francisco, CA, United States</td>\n",
       "      <td>93.91</td>\n",
       "      <td>108.42</td>\n",
       "      <td>100.72</td>\n",
       "      <td>97.05</td>\n",
       "      <td>93.40</td>\n",
       "      <td>133.16</td>\n",
       "      <td>San Francisco, CA</td>\n",
       "    </tr>\n",
       "  </tbody>\n",
       "</table>\n",
       "</div>"
      ],
      "text/plain": [
       "                               City  Cost of Living Index  Rent Index  \\\n",
       "0       Honolulu, HI, United States                103.65       65.07   \n",
       "1       New York, NY, United States                100.00      100.00   \n",
       "2  Santa Barbara, CA, United States                 95.01       78.42   \n",
       "3       Berkeley, CA, United States                 94.36       88.22   \n",
       "4  San Francisco, CA, United States                 93.91      108.42   \n",
       "\n",
       "   Cost of Living Plus Rent Index  Groceries Index  Restaurant Price Index  \\\n",
       "0                           85.56           114.92                   94.28   \n",
       "1                          100.00           100.00                  100.00   \n",
       "2                           87.23            99.53                   99.41   \n",
       "3                           91.48           106.23                   78.85   \n",
       "4                          100.72            97.05                   93.40   \n",
       "\n",
       "   Local Purchasing Power Index           Location  \n",
       "0                         89.24       Honolulu, HI  \n",
       "1                        100.00       New York, NY  \n",
       "2                         93.86  Santa Barbara, CA  \n",
       "3                         85.78       Berkeley, CA  \n",
       "4                        133.16  San Francisco, CA  "
      ]
     },
     "execution_count": 71,
     "metadata": {},
     "output_type": "execute_result"
    }
   ],
   "source": [
    "# View the resulting dataframe\n",
    "cost.head()"
   ]
  },
  {
   "cell_type": "code",
   "execution_count": 72,
   "id": "886592c5",
   "metadata": {},
   "outputs": [],
   "source": [
    "# Merge the two dataframes (cost and salary on common values in the Location feature)\n",
    "salary_cost = pd.merge(cost, salary, how = 'inner', on = \"Location\")"
   ]
  },
  {
   "cell_type": "code",
   "execution_count": 73,
   "id": "2b4b6dfd",
   "metadata": {
    "scrolled": true
   },
   "outputs": [
    {
     "data": {
      "text/html": [
       "<div>\n",
       "<style scoped>\n",
       "    .dataframe tbody tr th:only-of-type {\n",
       "        vertical-align: middle;\n",
       "    }\n",
       "\n",
       "    .dataframe tbody tr th {\n",
       "        vertical-align: top;\n",
       "    }\n",
       "\n",
       "    .dataframe thead th {\n",
       "        text-align: right;\n",
       "    }\n",
       "</style>\n",
       "<table border=\"1\" class=\"dataframe\">\n",
       "  <thead>\n",
       "    <tr style=\"text-align: right;\">\n",
       "      <th></th>\n",
       "      <th>City</th>\n",
       "      <th>Cost of Living Index</th>\n",
       "      <th>Rent Index</th>\n",
       "      <th>Cost of Living Plus Rent Index</th>\n",
       "      <th>Groceries Index</th>\n",
       "      <th>Restaurant Price Index</th>\n",
       "      <th>Local Purchasing Power Index</th>\n",
       "      <th>Location</th>\n",
       "      <th>Job Title</th>\n",
       "      <th>Salary Estimate</th>\n",
       "      <th>Minimum Salary (K $)</th>\n",
       "    </tr>\n",
       "  </thead>\n",
       "  <tbody>\n",
       "    <tr>\n",
       "      <th>0</th>\n",
       "      <td>New York, NY, United States</td>\n",
       "      <td>100.0</td>\n",
       "      <td>100.0</td>\n",
       "      <td>100.0</td>\n",
       "      <td>100.0</td>\n",
       "      <td>100.0</td>\n",
       "      <td>100.0</td>\n",
       "      <td>New York, NY</td>\n",
       "      <td>Data Scientist</td>\n",
       "      <td>$111K-$181K (Glassdoor est.)</td>\n",
       "      <td>111</td>\n",
       "    </tr>\n",
       "    <tr>\n",
       "      <th>1</th>\n",
       "      <td>New York, NY, United States</td>\n",
       "      <td>100.0</td>\n",
       "      <td>100.0</td>\n",
       "      <td>100.0</td>\n",
       "      <td>100.0</td>\n",
       "      <td>100.0</td>\n",
       "      <td>100.0</td>\n",
       "      <td>New York, NY</td>\n",
       "      <td>Data Scientist</td>\n",
       "      <td>$111K-$181K (Glassdoor est.)</td>\n",
       "      <td>111</td>\n",
       "    </tr>\n",
       "    <tr>\n",
       "      <th>2</th>\n",
       "      <td>New York, NY, United States</td>\n",
       "      <td>100.0</td>\n",
       "      <td>100.0</td>\n",
       "      <td>100.0</td>\n",
       "      <td>100.0</td>\n",
       "      <td>100.0</td>\n",
       "      <td>100.0</td>\n",
       "      <td>New York, NY</td>\n",
       "      <td>Data Scientist</td>\n",
       "      <td>$111K-$181K (Glassdoor est.)</td>\n",
       "      <td>111</td>\n",
       "    </tr>\n",
       "    <tr>\n",
       "      <th>3</th>\n",
       "      <td>New York, NY, United States</td>\n",
       "      <td>100.0</td>\n",
       "      <td>100.0</td>\n",
       "      <td>100.0</td>\n",
       "      <td>100.0</td>\n",
       "      <td>100.0</td>\n",
       "      <td>100.0</td>\n",
       "      <td>New York, NY</td>\n",
       "      <td>Data Scientist</td>\n",
       "      <td>$111K-$181K (Glassdoor est.)</td>\n",
       "      <td>111</td>\n",
       "    </tr>\n",
       "    <tr>\n",
       "      <th>4</th>\n",
       "      <td>New York, NY, United States</td>\n",
       "      <td>100.0</td>\n",
       "      <td>100.0</td>\n",
       "      <td>100.0</td>\n",
       "      <td>100.0</td>\n",
       "      <td>100.0</td>\n",
       "      <td>100.0</td>\n",
       "      <td>New York, NY</td>\n",
       "      <td>Data Scientist</td>\n",
       "      <td>$111K-$181K (Glassdoor est.)</td>\n",
       "      <td>111</td>\n",
       "    </tr>\n",
       "  </tbody>\n",
       "</table>\n",
       "</div>"
      ],
      "text/plain": [
       "                          City  Cost of Living Index  Rent Index  \\\n",
       "0  New York, NY, United States                 100.0       100.0   \n",
       "1  New York, NY, United States                 100.0       100.0   \n",
       "2  New York, NY, United States                 100.0       100.0   \n",
       "3  New York, NY, United States                 100.0       100.0   \n",
       "4  New York, NY, United States                 100.0       100.0   \n",
       "\n",
       "   Cost of Living Plus Rent Index  Groceries Index  Restaurant Price Index  \\\n",
       "0                           100.0            100.0                   100.0   \n",
       "1                           100.0            100.0                   100.0   \n",
       "2                           100.0            100.0                   100.0   \n",
       "3                           100.0            100.0                   100.0   \n",
       "4                           100.0            100.0                   100.0   \n",
       "\n",
       "   Local Purchasing Power Index      Location       Job Title  \\\n",
       "0                         100.0  New York, NY  Data Scientist   \n",
       "1                         100.0  New York, NY  Data Scientist   \n",
       "2                         100.0  New York, NY  Data Scientist   \n",
       "3                         100.0  New York, NY  Data Scientist   \n",
       "4                         100.0  New York, NY  Data Scientist   \n",
       "\n",
       "                Salary Estimate  Minimum Salary (K $)  \n",
       "0  $111K-$181K (Glassdoor est.)                   111  \n",
       "1  $111K-$181K (Glassdoor est.)                   111  \n",
       "2  $111K-$181K (Glassdoor est.)                   111  \n",
       "3  $111K-$181K (Glassdoor est.)                   111  \n",
       "4  $111K-$181K (Glassdoor est.)                   111  "
      ]
     },
     "execution_count": 73,
     "metadata": {},
     "output_type": "execute_result"
    }
   ],
   "source": [
    "# View the merge\n",
    "salary_cost.head()"
   ]
  },
  {
   "cell_type": "markdown",
   "id": "355b11ce",
   "metadata": {},
   "source": [
    "# A.3) Cleaning the taxes dataframe."
   ]
  },
  {
   "cell_type": "code",
   "execution_count": 74,
   "id": "4f322543",
   "metadata": {
    "scrolled": true
   },
   "outputs": [
    {
     "data": {
      "text/html": [
       "<div>\n",
       "<style scoped>\n",
       "    .dataframe tbody tr th:only-of-type {\n",
       "        vertical-align: middle;\n",
       "    }\n",
       "\n",
       "    .dataframe tbody tr th {\n",
       "        vertical-align: top;\n",
       "    }\n",
       "\n",
       "    .dataframe thead th {\n",
       "        text-align: right;\n",
       "    }\n",
       "</style>\n",
       "<table border=\"1\" class=\"dataframe\">\n",
       "  <thead>\n",
       "    <tr style=\"text-align: right;\">\n",
       "      <th></th>\n",
       "      <th>State</th>\n",
       "      <th>State HEADLINES</th>\n",
       "      <th>TOTAL</th>\n",
       "      <th>Effective Tax Rate</th>\n",
       "    </tr>\n",
       "  </thead>\n",
       "  <tbody>\n",
       "    <tr>\n",
       "      <th>0</th>\n",
       "      <td>Alabama</td>\n",
       "      <td>AL</td>\n",
       "      <td>Alabama, AL</td>\n",
       "      <td>9.8</td>\n",
       "    </tr>\n",
       "    <tr>\n",
       "      <th>1</th>\n",
       "      <td>Alaska</td>\n",
       "      <td>AK</td>\n",
       "      <td>Alaska, AK</td>\n",
       "      <td>4.6</td>\n",
       "    </tr>\n",
       "    <tr>\n",
       "      <th>2</th>\n",
       "      <td>Arizona</td>\n",
       "      <td>AZ</td>\n",
       "      <td>Arizona, AZ</td>\n",
       "      <td>9.5</td>\n",
       "    </tr>\n",
       "    <tr>\n",
       "      <th>3</th>\n",
       "      <td>Arkansas</td>\n",
       "      <td>AR</td>\n",
       "      <td>Arkansas, AR</td>\n",
       "      <td>10.2</td>\n",
       "    </tr>\n",
       "    <tr>\n",
       "      <th>4</th>\n",
       "      <td>California</td>\n",
       "      <td>CA</td>\n",
       "      <td>California, CA</td>\n",
       "      <td>13.5</td>\n",
       "    </tr>\n",
       "  </tbody>\n",
       "</table>\n",
       "</div>"
      ],
      "text/plain": [
       "        State State HEADLINES           TOTAL  Effective Tax Rate\n",
       "0     Alabama              AL     Alabama, AL                 9.8\n",
       "1      Alaska              AK      Alaska, AK                 4.6\n",
       "2     Arizona              AZ     Arizona, AZ                 9.5\n",
       "3    Arkansas              AR    Arkansas, AR                10.2\n",
       "4  California              CA  California, CA                13.5"
      ]
     },
     "execution_count": 74,
     "metadata": {},
     "output_type": "execute_result"
    }
   ],
   "source": [
    "# View the table\n",
    "taxes.head()"
   ]
  },
  {
   "cell_type": "code",
   "execution_count": 75,
   "id": "ccf4cb49",
   "metadata": {
    "scrolled": true
   },
   "outputs": [
    {
     "name": "stdout",
     "output_type": "stream",
     "text": [
      "<class 'pandas.core.frame.DataFrame'>\n",
      "RangeIndex: 51 entries, 0 to 50\n",
      "Data columns (total 4 columns):\n",
      " #   Column              Non-Null Count  Dtype  \n",
      "---  ------              --------------  -----  \n",
      " 0   State               51 non-null     object \n",
      " 1   State HEADLINES     51 non-null     object \n",
      " 2   TOTAL               51 non-null     object \n",
      " 3   Effective Tax Rate  51 non-null     float64\n",
      "dtypes: float64(1), object(3)\n",
      "memory usage: 1.7+ KB\n"
     ]
    }
   ],
   "source": [
    "taxes.info()"
   ]
  },
  {
   "cell_type": "code",
   "execution_count": 76,
   "id": "86b4ef6b",
   "metadata": {},
   "outputs": [],
   "source": [
    "# Renaming columns to follow the naming protocol of the previous dataframes\n",
    "taxes.rename(columns = {\"State HEADLINES\":\"State Headline\", \"TOTAL\":\"Location\"}, inplace = True)"
   ]
  },
  {
   "cell_type": "code",
   "execution_count": 77,
   "id": "e61e8e43",
   "metadata": {},
   "outputs": [],
   "source": [
    "# Merging all dataframes on location (left join because the taxes table date is on a state basis - not a city basis)\n",
    "salary_cost_taxes = pd.merge(salary_cost, taxes, how = \"left\", on = \"Location\")"
   ]
  },
  {
   "cell_type": "code",
   "execution_count": 78,
   "id": "74f971c7",
   "metadata": {
    "scrolled": true
   },
   "outputs": [
    {
     "name": "stdout",
     "output_type": "stream",
     "text": [
      "<class 'pandas.core.frame.DataFrame'>\n",
      "Int64Index: 2083 entries, 0 to 2082\n",
      "Data columns (total 14 columns):\n",
      " #   Column                          Non-Null Count  Dtype  \n",
      "---  ------                          --------------  -----  \n",
      " 0   City                            2083 non-null   object \n",
      " 1   Cost of Living Index            2083 non-null   float64\n",
      " 2   Rent Index                      2083 non-null   float64\n",
      " 3   Cost of Living Plus Rent Index  2083 non-null   float64\n",
      " 4   Groceries Index                 2083 non-null   float64\n",
      " 5   Restaurant Price Index          2083 non-null   float64\n",
      " 6   Local Purchasing Power Index    2083 non-null   float64\n",
      " 7   Location                        2083 non-null   object \n",
      " 8   Job Title                       2083 non-null   object \n",
      " 9   Salary Estimate                 2083 non-null   object \n",
      " 10  Minimum Salary (K $)            2083 non-null   int64  \n",
      " 11  State                           267 non-null    object \n",
      " 12  State Headline                  267 non-null    object \n",
      " 13  Effective Tax Rate              267 non-null    float64\n",
      "dtypes: float64(7), int64(1), object(6)\n",
      "memory usage: 244.1+ KB\n"
     ]
    }
   ],
   "source": [
    "salary_cost_taxes.info()"
   ]
  },
  {
   "cell_type": "code",
   "execution_count": 79,
   "id": "bb5d84b6",
   "metadata": {},
   "outputs": [
    {
     "data": {
      "text/html": [
       "<div>\n",
       "<style scoped>\n",
       "    .dataframe tbody tr th:only-of-type {\n",
       "        vertical-align: middle;\n",
       "    }\n",
       "\n",
       "    .dataframe tbody tr th {\n",
       "        vertical-align: top;\n",
       "    }\n",
       "\n",
       "    .dataframe thead th {\n",
       "        text-align: right;\n",
       "    }\n",
       "</style>\n",
       "<table border=\"1\" class=\"dataframe\">\n",
       "  <thead>\n",
       "    <tr style=\"text-align: right;\">\n",
       "      <th></th>\n",
       "      <th>City</th>\n",
       "      <th>Cost of Living Index</th>\n",
       "      <th>Rent Index</th>\n",
       "      <th>Cost of Living Plus Rent Index</th>\n",
       "      <th>Groceries Index</th>\n",
       "      <th>Restaurant Price Index</th>\n",
       "      <th>Local Purchasing Power Index</th>\n",
       "      <th>Location</th>\n",
       "      <th>Job Title</th>\n",
       "      <th>Salary Estimate</th>\n",
       "      <th>Minimum Salary (K $)</th>\n",
       "      <th>State</th>\n",
       "      <th>State Headline</th>\n",
       "      <th>Effective Tax Rate</th>\n",
       "    </tr>\n",
       "  </thead>\n",
       "  <tbody>\n",
       "    <tr>\n",
       "      <th>0</th>\n",
       "      <td>New York, NY, United States</td>\n",
       "      <td>100.0</td>\n",
       "      <td>100.0</td>\n",
       "      <td>100.0</td>\n",
       "      <td>100.0</td>\n",
       "      <td>100.0</td>\n",
       "      <td>100.0</td>\n",
       "      <td>New York, NY</td>\n",
       "      <td>Data Scientist</td>\n",
       "      <td>$111K-$181K (Glassdoor est.)</td>\n",
       "      <td>111</td>\n",
       "      <td>New York</td>\n",
       "      <td>NY</td>\n",
       "      <td>15.9</td>\n",
       "    </tr>\n",
       "    <tr>\n",
       "      <th>1</th>\n",
       "      <td>New York, NY, United States</td>\n",
       "      <td>100.0</td>\n",
       "      <td>100.0</td>\n",
       "      <td>100.0</td>\n",
       "      <td>100.0</td>\n",
       "      <td>100.0</td>\n",
       "      <td>100.0</td>\n",
       "      <td>New York, NY</td>\n",
       "      <td>Data Scientist</td>\n",
       "      <td>$111K-$181K (Glassdoor est.)</td>\n",
       "      <td>111</td>\n",
       "      <td>New York</td>\n",
       "      <td>NY</td>\n",
       "      <td>15.9</td>\n",
       "    </tr>\n",
       "    <tr>\n",
       "      <th>2</th>\n",
       "      <td>New York, NY, United States</td>\n",
       "      <td>100.0</td>\n",
       "      <td>100.0</td>\n",
       "      <td>100.0</td>\n",
       "      <td>100.0</td>\n",
       "      <td>100.0</td>\n",
       "      <td>100.0</td>\n",
       "      <td>New York, NY</td>\n",
       "      <td>Data Scientist</td>\n",
       "      <td>$111K-$181K (Glassdoor est.)</td>\n",
       "      <td>111</td>\n",
       "      <td>New York</td>\n",
       "      <td>NY</td>\n",
       "      <td>15.9</td>\n",
       "    </tr>\n",
       "    <tr>\n",
       "      <th>3</th>\n",
       "      <td>New York, NY, United States</td>\n",
       "      <td>100.0</td>\n",
       "      <td>100.0</td>\n",
       "      <td>100.0</td>\n",
       "      <td>100.0</td>\n",
       "      <td>100.0</td>\n",
       "      <td>100.0</td>\n",
       "      <td>New York, NY</td>\n",
       "      <td>Data Scientist</td>\n",
       "      <td>$111K-$181K (Glassdoor est.)</td>\n",
       "      <td>111</td>\n",
       "      <td>New York</td>\n",
       "      <td>NY</td>\n",
       "      <td>15.9</td>\n",
       "    </tr>\n",
       "    <tr>\n",
       "      <th>4</th>\n",
       "      <td>New York, NY, United States</td>\n",
       "      <td>100.0</td>\n",
       "      <td>100.0</td>\n",
       "      <td>100.0</td>\n",
       "      <td>100.0</td>\n",
       "      <td>100.0</td>\n",
       "      <td>100.0</td>\n",
       "      <td>New York, NY</td>\n",
       "      <td>Data Scientist</td>\n",
       "      <td>$111K-$181K (Glassdoor est.)</td>\n",
       "      <td>111</td>\n",
       "      <td>New York</td>\n",
       "      <td>NY</td>\n",
       "      <td>15.9</td>\n",
       "    </tr>\n",
       "  </tbody>\n",
       "</table>\n",
       "</div>"
      ],
      "text/plain": [
       "                          City  Cost of Living Index  Rent Index  \\\n",
       "0  New York, NY, United States                 100.0       100.0   \n",
       "1  New York, NY, United States                 100.0       100.0   \n",
       "2  New York, NY, United States                 100.0       100.0   \n",
       "3  New York, NY, United States                 100.0       100.0   \n",
       "4  New York, NY, United States                 100.0       100.0   \n",
       "\n",
       "   Cost of Living Plus Rent Index  Groceries Index  Restaurant Price Index  \\\n",
       "0                           100.0            100.0                   100.0   \n",
       "1                           100.0            100.0                   100.0   \n",
       "2                           100.0            100.0                   100.0   \n",
       "3                           100.0            100.0                   100.0   \n",
       "4                           100.0            100.0                   100.0   \n",
       "\n",
       "   Local Purchasing Power Index      Location       Job Title  \\\n",
       "0                         100.0  New York, NY  Data Scientist   \n",
       "1                         100.0  New York, NY  Data Scientist   \n",
       "2                         100.0  New York, NY  Data Scientist   \n",
       "3                         100.0  New York, NY  Data Scientist   \n",
       "4                         100.0  New York, NY  Data Scientist   \n",
       "\n",
       "                Salary Estimate  Minimum Salary (K $)     State  \\\n",
       "0  $111K-$181K (Glassdoor est.)                   111  New York   \n",
       "1  $111K-$181K (Glassdoor est.)                   111  New York   \n",
       "2  $111K-$181K (Glassdoor est.)                   111  New York   \n",
       "3  $111K-$181K (Glassdoor est.)                   111  New York   \n",
       "4  $111K-$181K (Glassdoor est.)                   111  New York   \n",
       "\n",
       "  State Headline  Effective Tax Rate  \n",
       "0             NY                15.9  \n",
       "1             NY                15.9  \n",
       "2             NY                15.9  \n",
       "3             NY                15.9  \n",
       "4             NY                15.9  "
      ]
     },
     "execution_count": 79,
     "metadata": {},
     "output_type": "execute_result"
    }
   ],
   "source": [
    "# View the merge\n",
    "salary_cost_taxes.head()"
   ]
  },
  {
   "cell_type": "markdown",
   "id": "ac75f899",
   "metadata": {},
   "source": [
    "#  Part B) Analysis"
   ]
  },
  {
   "cell_type": "markdown",
   "id": "da8db83b",
   "metadata": {},
   "source": [
    "Create a query of Job Titles of interest"
   ]
  },
  {
   "cell_type": "code",
   "execution_count": 115,
   "id": "96c30a35",
   "metadata": {},
   "outputs": [],
   "source": [
    "query = [\"Data Scientist\", \n",
    "         \"Data Analyst\",\n",
    "         \"Data Specialist\", \n",
    "         \"Data science researcher\",\n",
    "         \"Data Engineer\",\n",
    "         \"Technical Data Consultant\",\n",
    "         \"Machine Learning Engineer\"]"
   ]
  },
  {
   "cell_type": "markdown",
   "id": "f6fb5ce1",
   "metadata": {},
   "source": [
    "First we will find the average minimum starting salary per job title of the query in the US."
   ]
  },
  {
   "cell_type": "code",
   "execution_count": 116,
   "id": "5462b5df",
   "metadata": {},
   "outputs": [],
   "source": [
    "# Group by Job Title , calculate average salary, sort desc\n",
    "av_sal = salary_cost_taxes.groupby(\"Job Title\").agg({\n",
    "    \"Minimum Salary (K $)\":\"mean\"}).sort_values(\"Minimum Salary (K $)\", ascending = False).reset_index()"
   ]
  },
  {
   "cell_type": "code",
   "execution_count": 117,
   "id": "6223068e",
   "metadata": {},
   "outputs": [],
   "source": [
    "# Keep only the job titles contained in the initial query\n",
    "av_sal = av_sal[av_sal[\"Job Title\"].isin(query)]"
   ]
  },
  {
   "cell_type": "code",
   "execution_count": 118,
   "id": "787f197f",
   "metadata": {
    "scrolled": true
   },
   "outputs": [
    {
     "data": {
      "image/png": "[encoded data removed]",
      "text/plain": [
       "<Figure size 1500x500 with 1 Axes>"
      ]
     },
     "metadata": {},
     "output_type": "display_data"
    }
   ],
   "source": [
    "# Plot the av_sal\n",
    "plt.figure(figsize = [15,5])\n",
    "ax = sns.barplot(data = av_sal , x = av_sal[\"Job Title\"], y = av_sal[\"Minimum Salary (K $)\"])\n",
    "ax.set(title = \"Average minimum starting salary per Job in Data in US\")\n",
    "ax.bar_label(ax.containers[0])\n",
    "plt.xticks(rotation = 45)\n",
    "plt.show()"
   ]
  },
  {
   "cell_type": "markdown",
   "id": "09bac384",
   "metadata": {},
   "source": [
    "Average minimum starting salary for each location. Which are the top 10 locations with the highest values,\n",
    "which are the bottom 10?"
   ]
  },
  {
   "cell_type": "code",
   "execution_count": 122,
   "id": "0ebcad4c",
   "metadata": {},
   "outputs": [],
   "source": [
    "av_loc = salary_cost_taxes.groupby(\"Location\").agg({\n",
    "    \"Minimum Salary (K $)\":\"mean\"}).sort_values(\"Minimum Salary (K $)\", ascending = False).reset_index()"
   ]
  },
  {
   "cell_type": "code",
   "execution_count": 128,
   "id": "0772abeb",
   "metadata": {
    "scrolled": true
   },
   "outputs": [
    {
     "data": {
      "image/png": "[encoded data removed]",
      "text/plain": [
       "<Figure size 1500x500 with 1 Axes>"
      ]
     },
     "metadata": {},
     "output_type": "display_data"
    }
   ],
   "source": [
    "loc_top = av_loc.head(10)\n",
    "# Plot the top 10 highest salary locations\n",
    "plt.figure(figsize = [15,5])\n",
    "ax = sns.barplot(data = loc_top , y = loc_top[\"Location\"], x = loc_top[\"Minimum Salary (K $)\"])\n",
    "ax.set(title = \"Average minimum starting salary in the Data field per location in US\")\n",
    "ax.bar_label(ax.containers[0])\n",
    "plt.show()"
   ]
  },
  {
   "cell_type": "code",
   "execution_count": 216,
   "id": "99a34321",
   "metadata": {},
   "outputs": [
    {
     "data": {
      "image/png": "[encoded data removed]",
      "text/plain": [
       "<Figure size 1500x500 with 1 Axes>"
      ]
     },
     "metadata": {},
     "output_type": "display_data"
    }
   ],
   "source": [
    "loc_bot = av_loc.tail(10)\n",
    "# Plot the bottom 10 lowest salary locations\n",
    "plt.figure(figsize = [15,5])\n",
    "ax = sns.barplot(data = loc_bot , y = loc_bot[\"Location\"], x = loc_bot[\"Minimum Salary (K $)\"])\n",
    "ax.set(title = \"Average minimum starting salary in the Data field per location in US\")\n",
    "ax.bar_label(ax.containers[0])\n",
    "plt.show()"
   ]
  },
  {
   "cell_type": "markdown",
   "id": "98e8634e",
   "metadata": {},
   "source": [
    "Which are the most popular Job Titles per location in US."
   ]
  },
  {
   "cell_type": "code",
   "execution_count": 244,
   "id": "8d4f141d",
   "metadata": {
    "scrolled": false
   },
   "outputs": [
    {
     "data": {
      "image/png": "[encoded data removed]",
      "text/plain": [
       "<Figure size 1500x500 with 1 Axes>"
      ]
     },
     "metadata": {},
     "output_type": "display_data"
    }
   ],
   "source": [
    "fig = plt.figure(figsize = [15,5])\n",
    "ax = salary_cost_taxes.groupby(by = [\"Location\", \"Job Title\"])[\"Job Title\"].count().nlargest(10).plot.bar(rot = 45)\n",
    "plt.ylabel(\"Number of Job Titles\")\n",
    "fig.suptitle(\"Number of Job Titles positions in the DataFrame (Timeframe Summer 2020)\")\n",
    "plt.show()"
   ]
  },
  {
   "cell_type": "code",
   "execution_count": 245,
   "id": "8de6b5d6",
   "metadata": {},
   "outputs": [
    {
     "data": {
      "text/html": [
       "<div>\n",
       "<style scoped>\n",
       "    .dataframe tbody tr th:only-of-type {\n",
       "        vertical-align: middle;\n",
       "    }\n",
       "\n",
       "    .dataframe tbody tr th {\n",
       "        vertical-align: top;\n",
       "    }\n",
       "\n",
       "    .dataframe thead th {\n",
       "        text-align: right;\n",
       "    }\n",
       "</style>\n",
       "<table border=\"1\" class=\"dataframe\">\n",
       "  <thead>\n",
       "    <tr style=\"text-align: right;\">\n",
       "      <th></th>\n",
       "      <th>City</th>\n",
       "      <th>Cost of Living Index</th>\n",
       "      <th>Rent Index</th>\n",
       "      <th>Cost of Living Plus Rent Index</th>\n",
       "      <th>Groceries Index</th>\n",
       "      <th>Restaurant Price Index</th>\n",
       "      <th>Local Purchasing Power Index</th>\n",
       "      <th>Location</th>\n",
       "      <th>Job Title</th>\n",
       "      <th>Salary Estimate</th>\n",
       "      <th>Minimum Salary (K $)</th>\n",
       "      <th>State</th>\n",
       "      <th>State Headline</th>\n",
       "      <th>Effective Tax Rate</th>\n",
       "    </tr>\n",
       "  </thead>\n",
       "  <tbody>\n",
       "    <tr>\n",
       "      <th>0</th>\n",
       "      <td>New York, NY, United States</td>\n",
       "      <td>100.0</td>\n",
       "      <td>100.0</td>\n",
       "      <td>100.0</td>\n",
       "      <td>100.0</td>\n",
       "      <td>100.0</td>\n",
       "      <td>100.0</td>\n",
       "      <td>New York, NY</td>\n",
       "      <td>Data Scientist</td>\n",
       "      <td>$111K-$181K (Glassdoor est.)</td>\n",
       "      <td>111</td>\n",
       "      <td>New York</td>\n",
       "      <td>NY</td>\n",
       "      <td>15.9</td>\n",
       "    </tr>\n",
       "    <tr>\n",
       "      <th>1</th>\n",
       "      <td>New York, NY, United States</td>\n",
       "      <td>100.0</td>\n",
       "      <td>100.0</td>\n",
       "      <td>100.0</td>\n",
       "      <td>100.0</td>\n",
       "      <td>100.0</td>\n",
       "      <td>100.0</td>\n",
       "      <td>New York, NY</td>\n",
       "      <td>Data Scientist</td>\n",
       "      <td>$111K-$181K (Glassdoor est.)</td>\n",
       "      <td>111</td>\n",
       "      <td>New York</td>\n",
       "      <td>NY</td>\n",
       "      <td>15.9</td>\n",
       "    </tr>\n",
       "    <tr>\n",
       "      <th>2</th>\n",
       "      <td>New York, NY, United States</td>\n",
       "      <td>100.0</td>\n",
       "      <td>100.0</td>\n",
       "      <td>100.0</td>\n",
       "      <td>100.0</td>\n",
       "      <td>100.0</td>\n",
       "      <td>100.0</td>\n",
       "      <td>New York, NY</td>\n",
       "      <td>Data Scientist</td>\n",
       "      <td>$111K-$181K (Glassdoor est.)</td>\n",
       "      <td>111</td>\n",
       "      <td>New York</td>\n",
       "      <td>NY</td>\n",
       "      <td>15.9</td>\n",
       "    </tr>\n",
       "    <tr>\n",
       "      <th>3</th>\n",
       "      <td>New York, NY, United States</td>\n",
       "      <td>100.0</td>\n",
       "      <td>100.0</td>\n",
       "      <td>100.0</td>\n",
       "      <td>100.0</td>\n",
       "      <td>100.0</td>\n",
       "      <td>100.0</td>\n",
       "      <td>New York, NY</td>\n",
       "      <td>Data Scientist</td>\n",
       "      <td>$111K-$181K (Glassdoor est.)</td>\n",
       "      <td>111</td>\n",
       "      <td>New York</td>\n",
       "      <td>NY</td>\n",
       "      <td>15.9</td>\n",
       "    </tr>\n",
       "    <tr>\n",
       "      <th>4</th>\n",
       "      <td>New York, NY, United States</td>\n",
       "      <td>100.0</td>\n",
       "      <td>100.0</td>\n",
       "      <td>100.0</td>\n",
       "      <td>100.0</td>\n",
       "      <td>100.0</td>\n",
       "      <td>100.0</td>\n",
       "      <td>New York, NY</td>\n",
       "      <td>Data Scientist</td>\n",
       "      <td>$111K-$181K (Glassdoor est.)</td>\n",
       "      <td>111</td>\n",
       "      <td>New York</td>\n",
       "      <td>NY</td>\n",
       "      <td>15.9</td>\n",
       "    </tr>\n",
       "  </tbody>\n",
       "</table>\n",
       "</div>"
      ],
      "text/plain": [
       "                          City  Cost of Living Index  Rent Index  \\\n",
       "0  New York, NY, United States                 100.0       100.0   \n",
       "1  New York, NY, United States                 100.0       100.0   \n",
       "2  New York, NY, United States                 100.0       100.0   \n",
       "3  New York, NY, United States                 100.0       100.0   \n",
       "4  New York, NY, United States                 100.0       100.0   \n",
       "\n",
       "   Cost of Living Plus Rent Index  Groceries Index  Restaurant Price Index  \\\n",
       "0                           100.0            100.0                   100.0   \n",
       "1                           100.0            100.0                   100.0   \n",
       "2                           100.0            100.0                   100.0   \n",
       "3                           100.0            100.0                   100.0   \n",
       "4                           100.0            100.0                   100.0   \n",
       "\n",
       "   Local Purchasing Power Index      Location       Job Title  \\\n",
       "0                         100.0  New York, NY  Data Scientist   \n",
       "1                         100.0  New York, NY  Data Scientist   \n",
       "2                         100.0  New York, NY  Data Scientist   \n",
       "3                         100.0  New York, NY  Data Scientist   \n",
       "4                         100.0  New York, NY  Data Scientist   \n",
       "\n",
       "                Salary Estimate  Minimum Salary (K $)     State  \\\n",
       "0  $111K-$181K (Glassdoor est.)                   111  New York   \n",
       "1  $111K-$181K (Glassdoor est.)                   111  New York   \n",
       "2  $111K-$181K (Glassdoor est.)                   111  New York   \n",
       "3  $111K-$181K (Glassdoor est.)                   111  New York   \n",
       "4  $111K-$181K (Glassdoor est.)                   111  New York   \n",
       "\n",
       "  State Headline  Effective Tax Rate  \n",
       "0             NY                15.9  \n",
       "1             NY                15.9  \n",
       "2             NY                15.9  \n",
       "3             NY                15.9  \n",
       "4             NY                15.9  "
      ]
     },
     "execution_count": 245,
     "metadata": {},
     "output_type": "execute_result"
    }
   ],
   "source": [
    "# Location - Cost of living index map plot\n",
    "\n",
    "salary_cost_taxes.head()\n"
   ]
  },
  {
   "cell_type": "code",
   "execution_count": 46,
   "id": "20839582",
   "metadata": {
    "scrolled": true
   },
   "outputs": [
    {
     "data": {
      "image/png": "[encoded data removed]",
      "text/plain": [
       "<Figure size 1500x500 with 1 Axes>"
      ]
     },
     "metadata": {},
     "output_type": "display_data"
    }
   ],
   "source": [
    "# Location - Cost of living index map plot\n",
    "salary_cost_taxes.head()\n",
    "\n",
    "cost.head()\n",
    "cost =  cost.sort_values(\"Cost of Living Plus Rent Index\", ascending = False).head(10)\n",
    "plt.figure(figsize = [15,5])\n",
    "ax = sns.barplot(data = cost, x = cost[\"Location\"] ,y = cost[\"Cost of Living Plus Rent Index\"])\n",
    "ax.bar_label(ax.containers[0])\n",
    "ax.set()\n",
    "plt.show()"
   ]
  },
  {
   "cell_type": "code",
   "execution_count": 47,
   "id": "4588f1b4",
   "metadata": {},
   "outputs": [
    {
     "data": {
      "text/plain": [
       "array(['Fremont, CA', 'Santa Clara, CA', 'San Jose, CA', 'New York, NY',\n",
       "       'Jersey City, NJ', 'Los Angeles, CA', 'San Francisco, CA',\n",
       "       'Long Beach, CA', 'Austin, TX', 'Phoenix, AZ', 'Houston, TX',\n",
       "       'San Diego, CA', 'Columbus, OH', 'San Antonio, TX', 'Plano, TX',\n",
       "       'Philadelphia, PA', 'Mesa, AZ', 'Chicago, IL', 'Fort Worth, TX',\n",
       "       'Jacksonville, FL', 'Dallas, TX'], dtype=object)"
      ]
     },
     "execution_count": 47,
     "metadata": {},
     "output_type": "execute_result"
    }
   ],
   "source": [
    "y = salary_cost_taxes.groupby('Location').agg({\n",
    "    'Minimum Salary (K $)':'mean'}).sort_values('Minimum Salary (K $)', ascending = False).reset_index()\n",
    "\n",
    "y.Location.unique()"
   ]
  },
  {
   "cell_type": "code",
   "execution_count": 48,
   "id": "bb1a6513",
   "metadata": {},
   "outputs": [
    {
     "data": {
      "text/html": [
       "<div>\n",
       "<style scoped>\n",
       "    .dataframe tbody tr th:only-of-type {\n",
       "        vertical-align: middle;\n",
       "    }\n",
       "\n",
       "    .dataframe tbody tr th {\n",
       "        vertical-align: top;\n",
       "    }\n",
       "\n",
       "    .dataframe thead th {\n",
       "        text-align: right;\n",
       "    }\n",
       "</style>\n",
       "<table border=\"1\" class=\"dataframe\">\n",
       "  <thead>\n",
       "    <tr style=\"text-align: right;\">\n",
       "      <th></th>\n",
       "      <th>State</th>\n",
       "      <th>State Headlines</th>\n",
       "      <th>Location</th>\n",
       "      <th>Effective Tax Rate</th>\n",
       "    </tr>\n",
       "  </thead>\n",
       "  <tbody>\n",
       "    <tr>\n",
       "      <th>0</th>\n",
       "      <td>Alabama</td>\n",
       "      <td>AL</td>\n",
       "      <td>Alabama, AL</td>\n",
       "      <td>9.8%</td>\n",
       "    </tr>\n",
       "    <tr>\n",
       "      <th>1</th>\n",
       "      <td>Alaska</td>\n",
       "      <td>AK</td>\n",
       "      <td>Alaska, AK</td>\n",
       "      <td>4.6%</td>\n",
       "    </tr>\n",
       "    <tr>\n",
       "      <th>2</th>\n",
       "      <td>Arizona</td>\n",
       "      <td>AZ</td>\n",
       "      <td>Arizona, AZ</td>\n",
       "      <td>9.5%</td>\n",
       "    </tr>\n",
       "    <tr>\n",
       "      <th>3</th>\n",
       "      <td>Arkansas</td>\n",
       "      <td>AR</td>\n",
       "      <td>Arkansas, AR</td>\n",
       "      <td>10.2%</td>\n",
       "    </tr>\n",
       "    <tr>\n",
       "      <th>4</th>\n",
       "      <td>California</td>\n",
       "      <td>CA</td>\n",
       "      <td>California, CA</td>\n",
       "      <td>13.5%</td>\n",
       "    </tr>\n",
       "  </tbody>\n",
       "</table>\n",
       "</div>"
      ],
      "text/plain": [
       "        State State Headlines        Location Effective Tax Rate\n",
       "0     Alabama              AL     Alabama, AL               9.8%\n",
       "1      Alaska              AK      Alaska, AK               4.6%\n",
       "2     Arizona              AZ     Arizona, AZ               9.5%\n",
       "3    Arkansas              AR    Arkansas, AR              10.2%\n",
       "4  California              CA  California, CA              13.5%"
      ]
     },
     "execution_count": 48,
     "metadata": {},
     "output_type": "execute_result"
    }
   ],
   "source": [
    "taxes.head()"
   ]
  },
  {
   "cell_type": "code",
   "execution_count": 53,
   "id": "3a1736c2",
   "metadata": {
    "scrolled": false
   },
   "outputs": [],
   "source": [
    "#taxes = taxes.sort_values(\"Effective Tax Rate\", ascending = False)\n",
    "#plt.figure(figsize = [15,5])\n",
    "#ax = sns.barplot(data = taxes, x = taxes[\"Location\"] ,y = taxes[\"Effective Tax Rate\"])\n",
    "#ax.bar_label(ax.containers[0])\n",
    "#plt.show()"
   ]
  },
  {
   "cell_type": "code",
   "execution_count": null,
   "id": "f99d7a52",
   "metadata": {},
   "outputs": [],
   "source": [
    "# comments for continuing work:\n",
    "# fix dataframes\n",
    "# make more meaningful analysis\n",
    "# use more metrics\n",
    "# create a map plot (average starting salary per state)\n",
    "# save graph"
   ]
  },
  {
   "cell_type": "code",
   "execution_count": null,
   "id": "75eb28d5",
   "metadata": {},
   "outputs": [],
   "source": []
  }
 ],
 "metadata": {
  "kernelspec": {
   "display_name": "Python 3 (ipykernel)",
   "language": "python",
   "name": "python3"
  },
  "language_info": {
   "codemirror_mode": {
    "name": "ipython",
    "version": 3
   },
   "file_extension": ".py",
   "mimetype": "text/x-python",
   "name": "python",
   "nbconvert_exporter": "python",
   "pygments_lexer": "ipython3",
   "version": "3.9.13"
  }
 },
 "nbformat": 4,
 "nbformat_minor": 5
}
